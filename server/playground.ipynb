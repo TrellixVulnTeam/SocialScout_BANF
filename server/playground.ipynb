{
 "cells": [
  {
   "cell_type": "code",
   "execution_count": 23,
   "metadata": {},
   "outputs": [],
   "source": [
    "from dotenv import load_dotenv\n",
    "load_dotenv()\n",
    "import os\n",
    "import tweepy\n",
    "from textblob import TextBlob\n",
    "from profanity_check import predict"
   ]
  },
  {
   "cell_type": "code",
   "execution_count": 24,
   "metadata": {},
   "outputs": [],
   "source": [
    "client = tweepy.Client(bearer_token = os.getenv(\"BEARER_TOKEN\"), wait_on_rate_limit=True)\n",
    "username = \"selenagomez\"\n",
    "user_id = client.get_user(username=username).data.id"
   ]
  },
  {
   "cell_type": "code",
   "execution_count": 25,
   "metadata": {},
   "outputs": [],
   "source": [
    "hashTweets = tweepy.Paginator(client.search_recent_tweets, max_results = 100,\n",
    "                        query = \"niggas\", \n",
    "                        sort_order=\"relevancy\",\n",
    "                        tweet_fields = \n",
    "                            [\"text\", \n",
    "                            \"created_at\", \n",
    "                            \"public_metrics\",\n",
    "                            \"referenced_tweets\"]).flatten(limit = 10000)"
   ]
  },
  {
   "cell_type": "code",
   "execution_count": 26,
   "metadata": {},
   "outputs": [
    {
     "data": {
      "text/plain": [
       "3199"
      ]
     },
     "execution_count": 26,
     "metadata": {},
     "output_type": "execute_result"
    }
   ],
   "source": [
    "count = 0\n",
    "netSent = 0\n",
    "inappropriate = []\n",
    "\n",
    "tweets = tweepy.Paginator(client.get_users_tweets, max_results = 100,\n",
    "                        id = user_id, \n",
    "                        tweet_fields = \n",
    "                            [\"text\", \n",
    "                            \"created_at\", \n",
    "                            \"public_metrics\",\n",
    "                            \"referenced_tweets\"]).flatten()\n",
    "\n",
    "for tweet in tweets:\n",
    "    # print(tweet.created_at.strftime(\"%A,%d %B, %Y\"))\n",
    "    netSent += TextBlob(tweet.text).sentiment.polarity\n",
    "    if predict([tweet.text])[0] == 1:\n",
    "        inappropriate.append(tweet.text)\n",
    "    # print(tweet.text)\n",
    "    # print()\n",
    "    count +=1\n",
    "\n",
    "# for tweet in inappropriate:\n",
    "#     print(tweet)\n",
    "#     print()\n",
    "count\n"
   ]
  }
 ],
 "metadata": {
  "kernelspec": {
   "display_name": "Python 3.9.6 ('venv': venv)",
   "language": "python",
   "name": "python3"
  },
  "language_info": {
   "codemirror_mode": {
    "name": "ipython",
    "version": 3
   },
   "file_extension": ".py",
   "mimetype": "text/x-python",
   "name": "python",
   "nbconvert_exporter": "python",
   "pygments_lexer": "ipython3",
   "version": "3.9.6"
  },
  "orig_nbformat": 4,
  "vscode": {
   "interpreter": {
    "hash": "bf07683a8f118d341b87a6521445683ba2a48494a6435de363624e58533975e6"
   }
  }
 },
 "nbformat": 4,
 "nbformat_minor": 2
}
